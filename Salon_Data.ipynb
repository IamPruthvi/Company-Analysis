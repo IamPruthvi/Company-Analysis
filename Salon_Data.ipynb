{
 "cells": [
  {
   "cell_type": "code",
   "execution_count": 3,
   "metadata": {
    "id": "8O06Rik50RCw"
   },
   "outputs": [],
   "source": [
    "import pandas as pd\n",
    "import numpy as np\n",
    "import matplotlib.pyplot as plt"
   ]
  },
  {
   "cell_type": "code",
   "execution_count": 61,
   "metadata": {
    "colab": {
     "base_uri": "https://localhost:8080/",
     "height": 419
    },
    "id": "HRAk1Sj075wE",
    "outputId": "9694fab1-06d3-45a8-d839-8833c57ce467"
   },
   "outputs": [
    {
     "name": "stdout",
     "output_type": "stream",
     "text": [
      "Shape : (72, 8)\n"
     ]
    }
   ],
   "source": [
    "df = pd.read_csv('Salon_Data.csv')\n",
    "print(f'Shape : {df.shape}')"
   ]
  },
  {
   "cell_type": "code",
   "execution_count": 42,
   "metadata": {},
   "outputs": [
    {
     "data": {
      "text/html": [
       "<div>\n",
       "<style scoped>\n",
       "    .dataframe tbody tr th:only-of-type {\n",
       "        vertical-align: middle;\n",
       "    }\n",
       "\n",
       "    .dataframe tbody tr th {\n",
       "        vertical-align: top;\n",
       "    }\n",
       "\n",
       "    .dataframe thead th {\n",
       "        text-align: right;\n",
       "    }\n",
       "</style>\n",
       "<table border=\"1\" class=\"dataframe\">\n",
       "  <thead>\n",
       "    <tr style=\"text-align: right;\">\n",
       "      <th></th>\n",
       "      <th>date</th>\n",
       "      <th>time</th>\n",
       "      <th>haircut</th>\n",
       "      <th>price</th>\n",
       "      <th>hair_stylist</th>\n",
       "      <th>gender</th>\n",
       "      <th>type</th>\n",
       "      <th>rating</th>\n",
       "    </tr>\n",
       "  </thead>\n",
       "  <tbody>\n",
       "    <tr>\n",
       "      <th>0</th>\n",
       "      <td>2021-07-01</td>\n",
       "      <td>morning</td>\n",
       "      <td>hair</td>\n",
       "      <td>150</td>\n",
       "      <td>Asim</td>\n",
       "      <td>Male</td>\n",
       "      <td>regular</td>\n",
       "      <td>4.0</td>\n",
       "    </tr>\n",
       "    <tr>\n",
       "      <th>1</th>\n",
       "      <td>2021-07-01</td>\n",
       "      <td>morning</td>\n",
       "      <td>hair</td>\n",
       "      <td>250</td>\n",
       "      <td>Viraj</td>\n",
       "      <td>Female</td>\n",
       "      <td>new</td>\n",
       "      <td>4.7</td>\n",
       "    </tr>\n",
       "    <tr>\n",
       "      <th>2</th>\n",
       "      <td>2021-07-01</td>\n",
       "      <td>noon</td>\n",
       "      <td>beard</td>\n",
       "      <td>100</td>\n",
       "      <td>Atif</td>\n",
       "      <td>Male</td>\n",
       "      <td>regular</td>\n",
       "      <td>4.2</td>\n",
       "    </tr>\n",
       "    <tr>\n",
       "      <th>3</th>\n",
       "      <td>2021-07-01</td>\n",
       "      <td>noon</td>\n",
       "      <td>hair</td>\n",
       "      <td>150</td>\n",
       "      <td>Asim</td>\n",
       "      <td>Male</td>\n",
       "      <td>new</td>\n",
       "      <td>3.7</td>\n",
       "    </tr>\n",
       "    <tr>\n",
       "      <th>4</th>\n",
       "      <td>2021-07-01</td>\n",
       "      <td>noon</td>\n",
       "      <td>all</td>\n",
       "      <td>350</td>\n",
       "      <td>Viraj</td>\n",
       "      <td>Male</td>\n",
       "      <td>regular</td>\n",
       "      <td>4.8</td>\n",
       "    </tr>\n",
       "  </tbody>\n",
       "</table>\n",
       "</div>"
      ],
      "text/plain": [
       "         date     time haircut  price hair_stylist  gender     type  rating\n",
       "0  2021-07-01  morning    hair    150         Asim    Male  regular     4.0\n",
       "1  2021-07-01  morning    hair    250        Viraj  Female      new     4.7\n",
       "2  2021-07-01     noon   beard    100         Atif    Male  regular     4.2\n",
       "3  2021-07-01     noon    hair    150         Asim    Male      new     3.7\n",
       "4  2021-07-01     noon     all    350        Viraj    Male  regular     4.8"
      ]
     },
     "execution_count": 42,
     "metadata": {},
     "output_type": "execute_result"
    }
   ],
   "source": [
    "df.head(5)"
   ]
  },
  {
   "cell_type": "markdown",
   "metadata": {
    "id": "Sa0LtrfXJoa5"
   },
   "source": [
    "# Pie Chart"
   ]
  },
  {
   "cell_type": "markdown",
   "metadata": {
    "id": "Sa0LtrfXJoa5"
   },
   "source": [
    "pie chart of gender and type"
   ]
  },
  {
   "cell_type": "code",
   "execution_count": 5,
   "metadata": {
    "colab": {
     "base_uri": "https://localhost:8080/",
     "height": 479
    },
    "id": "ZI18vlhm76Yb",
    "outputId": "2ba40662-6a93-4b3c-bf30-9ff37dc32fe7"
   },
   "outputs": [
    {
     "data": {
      "image/png": "[encoded data removed]",
      "text/plain": [
       "<Figure size 432x288 with 1 Axes>"
      ]
     },
     "metadata": {},
     "output_type": "display_data"
    },
    {
     "data": {
      "image/png": "[encoded data removed]",
      "text/plain": [
       "<Figure size 432x288 with 1 Axes>"
      ]
     },
     "metadata": {},
     "output_type": "display_data"
    }
   ],
   "source": [
    "plt.pie(x=df.gender.value_counts(), labels=['Male','Female'], autopct='%.2f')\n",
    "plt.show()\n",
    "plt.pie(x=df['type'].value_counts(), labels=['New','Regular'], autopct='%.2f')\n",
    "plt.show()"
   ]
  },
  {
   "cell_type": "markdown",
   "metadata": {
    "id": "nh3Z5WphJSdK"
   },
   "source": [
    "pie chart of % of haircut given by hairstylist"
   ]
  },
  {
   "cell_type": "code",
   "execution_count": 45,
   "metadata": {
    "colab": {
     "base_uri": "https://localhost:8080/",
     "height": 332
    },
    "id": "KYCvN81CDtPd",
    "outputId": "3fba674c-60ec-411e-dfaa-5c89b21c843d"
   },
   "outputs": [
    {
     "name": "stdout",
     "output_type": "stream",
     "text": [
      "Atif     29\n",
      "Asim     23\n",
      "Viraj    20\n",
      "Name: hair_stylist, dtype: int64\n"
     ]
    },
    {
     "data": {
      "image/png": "[encoded data removed]",
      "text/plain": [
       "<Figure size 432x288 with 1 Axes>"
      ]
     },
     "metadata": {},
     "output_type": "display_data"
    }
   ],
   "source": [
    "print(df.hair_stylist.value_counts())\n",
    "plt.pie(df.hair_stylist.value_counts().sort_values(), \n",
    "        labels=df.hair_stylist.unique(), autopct='%.2f')\n",
    "plt.title('Percentage of haircut given by Hairstylist of all time')\n",
    "plt.show()"
   ]
  },
  {
   "cell_type": "markdown",
   "metadata": {
    "id": "f54DtPqOJiYR"
   },
   "source": [
    "# Bar Graph"
   ]
  },
  {
   "cell_type": "markdown",
   "metadata": {
    "id": "Sa0LtrfXJoa5"
   },
   "source": [
    "bar graph of haircut type"
   ]
  },
  {
   "cell_type": "code",
   "execution_count": 62,
   "metadata": {
    "colab": {
     "base_uri": "https://localhost:8080/",
     "height": 301
    },
    "id": "aNHipa9L-mnm",
    "outputId": "cb6075fb-c7f9-413a-de46-99f5ad8d92cf"
   },
   "outputs": [
    {
     "data": {
      "text/plain": [
       "<AxesSubplot:>"
      ]
     },
     "execution_count": 62,
     "metadata": {},
     "output_type": "execute_result"
    },
    {
     "data": {
      "image/png": "[encoded data removed]",
      "text/plain": [
       "<Figure size 432x288 with 1 Axes>"
      ]
     },
     "metadata": {
      "needs_background": "light"
     },
     "output_type": "display_data"
    }
   ],
   "source": [
    "df.haircut.value_counts().sort_values().plot(kind = 'bar')"
   ]
  },
  {
   "cell_type": "markdown",
   "metadata": {
    "id": "HrPvQohWJdBR"
   },
   "source": [
    "bar graph of haircut counts"
   ]
  },
  {
   "cell_type": "code",
   "execution_count": 63,
   "metadata": {
    "colab": {
     "base_uri": "https://localhost:8080/",
     "height": 350
    },
    "id": "wNghmCbvC1kf",
    "outputId": "ec0593a0-74f0-477d-ce23-747c5c94b139"
   },
   "outputs": [
    {
     "name": "stdout",
     "output_type": "stream",
     "text": [
      "morning     18\n",
      "mid noon    20\n",
      "noon        34\n",
      "Name: time, dtype: int64\n"
     ]
    },
    {
     "data": {
      "image/png": "[encoded data removed]",
      "text/plain": [
       "<Figure size 432x288 with 1 Axes>"
      ]
     },
     "metadata": {
      "needs_background": "light"
     },
     "output_type": "display_data"
    }
   ],
   "source": [
    "print(df.time.value_counts().sort_values())\n",
    "plt.bar(df.time.unique(), df.time.value_counts().sort_values())\n",
    "plt.show()"
   ]
  },
  {
   "cell_type": "markdown",
   "metadata": {
    "id": "Sa0LtrfXJoa5"
   },
   "source": [
    "Multiple bar graphs of Individual Hairstylist"
   ]
  },
  {
   "cell_type": "code",
   "execution_count": 55,
   "metadata": {
    "colab": {
     "base_uri": "https://localhost:8080/",
     "height": 312
    },
    "id": "P6hxfPBnLHbZ",
    "outputId": "71c68b12-d3b2-47c4-dd39-db4db53d0f96"
   },
   "outputs": [
    {
     "data": {
      "image/png": "[encoded data removed]",
      "text/plain": [
       "<Figure size 432x288 with 1 Axes>"
      ]
     },
     "metadata": {
      "needs_background": "light"
     },
     "output_type": "display_data"
    }
   ],
   "source": [
    "hair_stylist = df.hair_stylist.unique()\n",
    "days = df.date.unique()\n",
    "foo = lambda name, date: df[(df['hair_stylist'] == name)\n",
    "                            & (df['date'] == date)]['price']\n",
    "atif = [foo('Atif', date).mean() for date in days]\n",
    "asim = [foo('Asim', date).mean() for date in days]\n",
    "viraj = [foo('Viraj', date).mean() for date in days]\n",
    "x = np.arange(len(days))\n",
    "plt.bar(x-0.3, atif,0.3, label='Atif')\n",
    "plt.bar(x+0, asim,0.3, label='Asim')\n",
    "plt.bar(x+0.3, viraj,0.3, label='Viraj')\n",
    "plt.xticks(x, days)\n",
    "plt.xlabel('Dates')\n",
    "plt.ylabel('Price')\n",
    "plt.title('Mean Price of haircut earned by hairstylist')\n",
    "plt.legend()\n",
    "plt.show()"
   ]
  },
  {
   "cell_type": "markdown",
   "metadata": {
    "id": "RRY4y3DNJN7C"
   },
   "source": [
    "# Line Plot"
   ]
  },
  {
   "cell_type": "markdown",
   "metadata": {
    "id": "RRY4y3DNJN7C"
   },
   "source": [
    "line plot of all time\n"
   ]
  },
  {
   "cell_type": "code",
   "execution_count": 46,
   "metadata": {
    "colab": {
     "base_uri": "https://localhost:8080/",
     "height": 380
    },
    "id": "qMzTxPyYGfnJ",
    "outputId": "20e8feb4-2679-430e-ac72-758e17400a31"
   },
   "outputs": [
    {
     "name": "stdout",
     "output_type": "stream",
     "text": [
      "noon        34\n",
      "mid noon    20\n",
      "morning     18\n",
      "Name: time, dtype: int64\n"
     ]
    },
    {
     "data": {
      "text/plain": [
       "Text(0, 0.5, 'No. of haircuts')"
      ]
     },
     "execution_count": 46,
     "metadata": {},
     "output_type": "execute_result"
    },
    {
     "data": {
      "image/png": "[encoded data removed]",
      "text/plain": [
       "<Figure size 432x288 with 1 Axes>"
      ]
     },
     "metadata": {
      "needs_background": "light"
     },
     "output_type": "display_data"
    }
   ],
   "source": [
    "plt.plot(df.time.unique(), df.time.value_counts().sort_values(),\n",
    "         label='Total haircuts')\n",
    "print(df.time.value_counts())\n",
    "plt.title('Number of haircuts given')\n",
    "plt.xlabel('Time')\n",
    "plt.legend()\n",
    "plt.ylabel('No. of haircuts')"
   ]
  },
  {
   "cell_type": "markdown",
   "metadata": {
    "id": "iWwWduviJIOk"
   },
   "source": [
    "Line plot of particular date"
   ]
  },
  {
   "cell_type": "markdown",
   "metadata": {
    "id": "TDfx-y4kmGQS"
   },
   "source": [
    "Date Based wages"
   ]
  },
  {
   "cell_type": "code",
   "execution_count": 48,
   "metadata": {
    "colab": {
     "base_uri": "https://localhost:8080/",
     "height": 347
    },
    "id": "8CL1jlMRHcZ_",
    "outputId": "918f8e47-2483-45b5-ce16-89cc35d47356"
   },
   "outputs": [
    {
     "name": "stdout",
     "output_type": "stream",
     "text": [
      "mid noon     4\n",
      "morning      6\n",
      "noon        11\n",
      "Name: time, dtype: int64\n"
     ]
    },
    {
     "data": {
      "image/png": "[encoded data removed]",
      "text/plain": [
       "<Figure size 432x288 with 1 Axes>"
      ]
     },
     "metadata": {
      "needs_background": "light"
     },
     "output_type": "display_data"
    }
   ],
   "source": [
    "day = '2021-07-03'\n",
    "day_func = lambda day: df[df['date']==day]['time'].value_counts().sort_values()\n",
    "print(day_func(day))\n",
    "plt.plot(df.time.unique(), day_func(day), label=f'Haircut on {day}')\n",
    "plt.xlabel('Time')\n",
    "plt.ylabel('No. of haircuts')\n",
    "plt.legend()\n",
    "plt.show()"
   ]
  },
  {
   "cell_type": "markdown",
   "metadata": {
    "id": "KQ5C0uPcl-2h"
   },
   "source": [
    "# Box Plot"
   ]
  },
  {
   "cell_type": "code",
   "execution_count": 49,
   "metadata": {
    "colab": {
     "base_uri": "https://localhost:8080/",
     "height": 803
    },
    "id": "IsMOnBF-l70T",
    "outputId": "a2515dd4-974f-4000-c020-b37ccee3c5fd"
   },
   "outputs": [
    {
     "data": {
      "image/png": "[encoded data removed]",
      "text/plain": [
       "<Figure size 432x288 with 1 Axes>"
      ]
     },
     "metadata": {
      "needs_background": "light"
     },
     "output_type": "display_data"
    },
    {
     "data": {
      "image/png": "[encoded data removed]",
      "text/plain": [
       "<Figure size 432x288 with 1 Axes>"
      ]
     },
     "metadata": {
      "needs_background": "light"
     },
     "output_type": "display_data"
    },
    {
     "data": {
      "image/png": "[encoded data removed]",
      "text/plain": [
       "<Figure size 432x288 with 1 Axes>"
      ]
     },
     "metadata": {
      "needs_background": "light"
     },
     "output_type": "display_data"
    }
   ],
   "source": [
    "hair_stylist = lambda name: df[df['hair_stylist']==name]['price']\n",
    "for name in ['Asim','Atif','Viraj']:\n",
    "    plt.boxplot(hair_stylist(name), labels=[name])\n",
    "    plt.xlabel('Hair Stylist')\n",
    "    plt.ylabel('Price')\n",
    "    plt.show()"
   ]
  },
  {
   "cell_type": "markdown",
   "metadata": {
    "id": "_a6Vbvty8756"
   },
   "source": [
    "# Scatter Plot"
   ]
  },
  {
   "cell_type": "markdown",
   "metadata": {
    "id": "_a6Vbvty8756"
   },
   "source": [
    "Scatter Plot of Rating of All Hair-Stylists"
   ]
  },
  {
   "cell_type": "code",
   "execution_count": 60,
   "metadata": {
    "colab": {
     "base_uri": "https://localhost:8080/",
     "height": 334
    },
    "id": "_rzgMqHH8-Nq",
    "outputId": "9abc2400-411e-4352-a3e7-73b0f450ec8e"
   },
   "outputs": [
    {
     "data": {
      "image/png": "[encoded data removed]",
      "text/plain": [
       "<Figure size 432x288 with 1 Axes>"
      ]
     },
     "metadata": {
      "needs_background": "light"
     },
     "output_type": "display_data"
    }
   ],
   "source": [
    "v,at = df[df['hair_stylist']=='Viraj'],df[df['hair_stylist']=='Atif']\n",
    "a = df[df['hair_stylist']=='Asim']\n",
    "plt.scatter(at['date'], at['rating'], label='Atif')\n",
    "plt.scatter(a['date'], a['rating'], label='Asim')\n",
    "plt.scatter(v['date'], v['rating'], label='Viraj')\n",
    "plt.xlabel('Date')\n",
    "plt.ylabel('Ratings')\n",
    "plt.legend(loc='best')\n",
    "plt.show()"
   ]
  }
 ],
 "metadata": {
  "colab": {
   "collapsed_sections": [],
   "name": "Salon_Data.ipynb",
   "provenance": []
  },
  "kernelspec": {
   "display_name": "Python 3",
   "language": "python",
   "name": "python3"
  },
  "language_info": {
   "codemirror_mode": {
    "name": "ipython",
    "version": 3
   },
   "file_extension": ".py",
   "mimetype": "text/x-python",
   "name": "python",
   "nbconvert_exporter": "python",
   "pygments_lexer": "ipython3",
   "version": "3.9.1"
  },
  "toc-autonumbering": true,
  "toc-showmarkdowntxt": true
 },
 "nbformat": 4,
 "nbformat_minor": 4
}
